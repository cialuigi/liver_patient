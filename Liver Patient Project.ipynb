{
 "cells": [
  {
   "cell_type": "code",
   "execution_count": 1,
   "id": "49cfb4ad",
   "metadata": {},
   "outputs": [],
   "source": [
    "# Import necessary libraries\n",
    "import pandas as pd\n",
    "import numpy as np\n",
    "import matplotlib.pyplot as plt\n",
    "import seaborn as sns\n",
    "from sklearn.model_selection import train_test_split\n",
    "from sklearn.linear_model import LogisticRegression\n",
    "from sklearn.ensemble import RandomForestClassifier\n",
    "from sklearn.tree import DecisionTreeClassifier\n",
    "from sklearn.neighbors import KNeighborsClassifier\n",
    "from sklearn.metrics import accuracy_score, precision_score, recall_score, classification_report, confusion_matrix"
   ]
  },
  {
   "cell_type": "code",
   "execution_count": 2,
   "id": "eed091bb",
   "metadata": {},
   "outputs": [
    {
     "data": {
      "text/html": [
       "<div>\n",
       "<style scoped>\n",
       "    .dataframe tbody tr th:only-of-type {\n",
       "        vertical-align: middle;\n",
       "    }\n",
       "\n",
       "    .dataframe tbody tr th {\n",
       "        vertical-align: top;\n",
       "    }\n",
       "\n",
       "    .dataframe thead th {\n",
       "        text-align: right;\n",
       "    }\n",
       "</style>\n",
       "<table border=\"1\" class=\"dataframe\">\n",
       "  <thead>\n",
       "    <tr style=\"text-align: right;\">\n",
       "      <th></th>\n",
       "      <th>Age</th>\n",
       "      <th>Gender</th>\n",
       "      <th>TB</th>\n",
       "      <th>DB</th>\n",
       "      <th>Alkphos</th>\n",
       "      <th>Sgpt</th>\n",
       "      <th>Sgot</th>\n",
       "      <th>TP</th>\n",
       "      <th>ALB</th>\n",
       "      <th>A/G Ratio</th>\n",
       "      <th>Target</th>\n",
       "    </tr>\n",
       "  </thead>\n",
       "  <tbody>\n",
       "    <tr>\n",
       "      <th>0</th>\n",
       "      <td>65</td>\n",
       "      <td>Female</td>\n",
       "      <td>0.7</td>\n",
       "      <td>0.1</td>\n",
       "      <td>187</td>\n",
       "      <td>16</td>\n",
       "      <td>18</td>\n",
       "      <td>6.8</td>\n",
       "      <td>3.3</td>\n",
       "      <td>0.90</td>\n",
       "      <td>1</td>\n",
       "    </tr>\n",
       "    <tr>\n",
       "      <th>1</th>\n",
       "      <td>62</td>\n",
       "      <td>Male</td>\n",
       "      <td>10.9</td>\n",
       "      <td>5.5</td>\n",
       "      <td>699</td>\n",
       "      <td>64</td>\n",
       "      <td>100</td>\n",
       "      <td>7.5</td>\n",
       "      <td>3.2</td>\n",
       "      <td>0.74</td>\n",
       "      <td>1</td>\n",
       "    </tr>\n",
       "    <tr>\n",
       "      <th>2</th>\n",
       "      <td>62</td>\n",
       "      <td>Male</td>\n",
       "      <td>7.3</td>\n",
       "      <td>4.1</td>\n",
       "      <td>490</td>\n",
       "      <td>60</td>\n",
       "      <td>68</td>\n",
       "      <td>7.0</td>\n",
       "      <td>3.3</td>\n",
       "      <td>0.89</td>\n",
       "      <td>1</td>\n",
       "    </tr>\n",
       "    <tr>\n",
       "      <th>3</th>\n",
       "      <td>58</td>\n",
       "      <td>Male</td>\n",
       "      <td>1.0</td>\n",
       "      <td>0.4</td>\n",
       "      <td>182</td>\n",
       "      <td>14</td>\n",
       "      <td>20</td>\n",
       "      <td>6.8</td>\n",
       "      <td>3.4</td>\n",
       "      <td>1.00</td>\n",
       "      <td>1</td>\n",
       "    </tr>\n",
       "    <tr>\n",
       "      <th>4</th>\n",
       "      <td>72</td>\n",
       "      <td>Male</td>\n",
       "      <td>3.9</td>\n",
       "      <td>2.0</td>\n",
       "      <td>195</td>\n",
       "      <td>27</td>\n",
       "      <td>59</td>\n",
       "      <td>7.3</td>\n",
       "      <td>2.4</td>\n",
       "      <td>0.40</td>\n",
       "      <td>1</td>\n",
       "    </tr>\n",
       "  </tbody>\n",
       "</table>\n",
       "</div>"
      ],
      "text/plain": [
       "   Age  Gender    TB   DB  Alkphos  Sgpt  Sgot   TP  ALB  A/G Ratio  Target\n",
       "0   65  Female   0.7  0.1      187    16    18  6.8  3.3       0.90       1\n",
       "1   62    Male  10.9  5.5      699    64   100  7.5  3.2       0.74       1\n",
       "2   62    Male   7.3  4.1      490    60    68  7.0  3.3       0.89       1\n",
       "3   58    Male   1.0  0.4      182    14    20  6.8  3.4       1.00       1\n",
       "4   72    Male   3.9  2.0      195    27    59  7.3  2.4       0.40       1"
      ]
     },
     "execution_count": 2,
     "metadata": {},
     "output_type": "execute_result"
    }
   ],
   "source": [
    "#Dataset\n",
    "\n",
    "file_path = r'C:\\Users\\luigi\\Desktop\\Final Proj\\Indian Liver Patient Dataset (ILPD).csv'\n",
    "\n",
    "col_names=['Age','Gender', 'TB', 'DB', 'Alkphos', 'Sgpt', 'Sgot', 'TP', 'ALB', 'A/G Ratio', 'Target']\n",
    "df = pd.read_csv(file_path, header=None, names=col_names)\n",
    "\n",
    "df.head()"
   ]
  },
  {
   "cell_type": "code",
   "execution_count": 3,
   "id": "39a2cfa6",
   "metadata": {},
   "outputs": [
    {
     "data": {
      "text/plain": [
       "Target\n",
       "1    416\n",
       "2    167\n",
       "Name: count, dtype: int64"
      ]
     },
     "execution_count": 3,
     "metadata": {},
     "output_type": "execute_result"
    }
   ],
   "source": [
    "df['Target'].value_counts()"
   ]
  },
  {
   "cell_type": "code",
   "execution_count": 4,
   "id": "391af970",
   "metadata": {
    "scrolled": true
   },
   "outputs": [
    {
     "name": "stdout",
     "output_type": "stream",
     "text": [
      "<class 'pandas.core.frame.DataFrame'>\n",
      "RangeIndex: 583 entries, 0 to 582\n",
      "Data columns (total 11 columns):\n",
      " #   Column     Non-Null Count  Dtype  \n",
      "---  ------     --------------  -----  \n",
      " 0   Age        583 non-null    int64  \n",
      " 1   Gender     583 non-null    object \n",
      " 2   TB         583 non-null    float64\n",
      " 3   DB         583 non-null    float64\n",
      " 4   Alkphos    583 non-null    int64  \n",
      " 5   Sgpt       583 non-null    int64  \n",
      " 6   Sgot       583 non-null    int64  \n",
      " 7   TP         583 non-null    float64\n",
      " 8   ALB        583 non-null    float64\n",
      " 9   A/G Ratio  579 non-null    float64\n",
      " 10  Target     583 non-null    int64  \n",
      "dtypes: float64(5), int64(5), object(1)\n",
      "memory usage: 50.2+ KB\n",
      "None\n",
      "              Age          TB          DB      Alkphos         Sgpt  \\\n",
      "count  583.000000  583.000000  583.000000   583.000000   583.000000   \n",
      "mean    44.746141    3.298799    1.486106   290.576329    80.713551   \n",
      "std     16.189833    6.209522    2.808498   242.937989   182.620356   \n",
      "min      4.000000    0.400000    0.100000    63.000000    10.000000   \n",
      "25%     33.000000    0.800000    0.200000   175.500000    23.000000   \n",
      "50%     45.000000    1.000000    0.300000   208.000000    35.000000   \n",
      "75%     58.000000    2.600000    1.300000   298.000000    60.500000   \n",
      "max     90.000000   75.000000   19.700000  2110.000000  2000.000000   \n",
      "\n",
      "              Sgot          TP         ALB   A/G Ratio      Target  \n",
      "count   583.000000  583.000000  583.000000  579.000000  583.000000  \n",
      "mean    109.910806    6.483190    3.141852    0.947064    1.286449  \n",
      "std     288.918529    1.085451    0.795519    0.319592    0.452490  \n",
      "min      10.000000    2.700000    0.900000    0.300000    1.000000  \n",
      "25%      25.000000    5.800000    2.600000    0.700000    1.000000  \n",
      "50%      42.000000    6.600000    3.100000    0.930000    1.000000  \n",
      "75%      87.000000    7.200000    3.800000    1.100000    2.000000  \n",
      "max    4929.000000    9.600000    5.500000    2.800000    2.000000  \n",
      "   Age  Gender    TB   DB  Alkphos  Sgpt  Sgot   TP  ALB  A/G Ratio  Target\n",
      "0   65  Female   0.7  0.1      187    16    18  6.8  3.3       0.90       1\n",
      "1   62    Male  10.9  5.5      699    64   100  7.5  3.2       0.74       1\n",
      "2   62    Male   7.3  4.1      490    60    68  7.0  3.3       0.89       1\n",
      "3   58    Male   1.0  0.4      182    14    20  6.8  3.4       1.00       1\n",
      "4   72    Male   3.9  2.0      195    27    59  7.3  2.4       0.40       1\n"
     ]
    }
   ],
   "source": [
    "print(df.info())\n",
    "print(df.describe())\n",
    "print(df.head())"
   ]
  },
  {
   "cell_type": "code",
   "execution_count": 5,
   "id": "283e0fff",
   "metadata": {},
   "outputs": [
    {
     "data": {
      "text/plain": [
       "0      1\n",
       "1      0\n",
       "2      0\n",
       "3      0\n",
       "4      0\n",
       "      ..\n",
       "578    0\n",
       "579    0\n",
       "580    0\n",
       "581    0\n",
       "582    0\n",
       "Name: Gender, Length: 583, dtype: int32"
      ]
     },
     "execution_count": 5,
     "metadata": {},
     "output_type": "execute_result"
    }
   ],
   "source": [
    "# Conversion of categorical variable 'Gender'\n",
    "df['Gender'] = np.where(df['Gender']== 'Female', 1, 0)\n",
    "df['Gender']"
   ]
  },
  {
   "cell_type": "code",
   "execution_count": 6,
   "id": "e0f05a03",
   "metadata": {},
   "outputs": [
    {
     "data": {
      "text/plain": [
       "0      1\n",
       "1      1\n",
       "2      1\n",
       "3      1\n",
       "4      1\n",
       "      ..\n",
       "578    0\n",
       "579    1\n",
       "580    1\n",
       "581    1\n",
       "582    0\n",
       "Name: Target, Length: 583, dtype: int32"
      ]
     },
     "execution_count": 6,
     "metadata": {},
     "output_type": "execute_result"
    }
   ],
   "source": [
    "# Convert target variable to binary\n",
    "df['Target'] = np.where(df['Target'] == 1, 1, 0)\n",
    "df['Target']"
   ]
  },
  {
   "cell_type": "code",
   "execution_count": 7,
   "id": "916ab727",
   "metadata": {},
   "outputs": [
    {
     "data": {
      "text/plain": [
       "Target\n",
       "1    416\n",
       "0    167\n",
       "Name: count, dtype: int64"
      ]
     },
     "execution_count": 7,
     "metadata": {},
     "output_type": "execute_result"
    }
   ],
   "source": [
    "df['Target'].value_counts()"
   ]
  },
  {
   "cell_type": "code",
   "execution_count": 8,
   "id": "776b48a7",
   "metadata": {},
   "outputs": [
    {
     "name": "stdout",
     "output_type": "stream",
     "text": [
      "Age          0\n",
      "Gender       0\n",
      "TB           0\n",
      "DB           0\n",
      "Alkphos      0\n",
      "Sgpt         0\n",
      "Sgot         0\n",
      "TP           0\n",
      "ALB          0\n",
      "A/G Ratio    4\n",
      "Target       0\n",
      "dtype: int64\n"
     ]
    }
   ],
   "source": [
    "# Check for missing values\n",
    "print(df.isnull().sum())"
   ]
  },
  {
   "cell_type": "code",
   "execution_count": 9,
   "id": "c905db45",
   "metadata": {},
   "outputs": [],
   "source": [
    "# Fill missing values with median\n",
    "df.fillna(df.median(), inplace=True)"
   ]
  },
  {
   "cell_type": "code",
   "execution_count": 10,
   "id": "d60d81a7",
   "metadata": {},
   "outputs": [
    {
     "name": "stdout",
     "output_type": "stream",
     "text": [
      "Age          0\n",
      "Gender       0\n",
      "TB           0\n",
      "DB           0\n",
      "Alkphos      0\n",
      "Sgpt         0\n",
      "Sgot         0\n",
      "TP           0\n",
      "ALB          0\n",
      "A/G Ratio    0\n",
      "Target       0\n",
      "dtype: int64\n"
     ]
    }
   ],
   "source": [
    "print(df.isnull().sum())"
   ]
  },
  {
   "cell_type": "code",
   "execution_count": 11,
   "id": "fe48315c",
   "metadata": {},
   "outputs": [
    {
     "name": "stdout",
     "output_type": "stream",
     "text": [
      "Cleaned dataset saved to: C:\\Users\\luigi\\Desktop\\Final Proj\\Clean Liver Data.csv\n"
     ]
    }
   ],
   "source": [
    "#Clean\n",
    "cleaned_file_path = r'C:\\Users\\luigi\\Desktop\\Final Proj\\Clean Liver Data.csv'\n",
    "\n",
    "df.to_csv(cleaned_file_path, index=False)\n",
    "print(f\"Cleaned dataset saved to: {cleaned_file_path}\")"
   ]
  },
  {
   "cell_type": "code",
   "execution_count": 12,
   "id": "3f0a6c49",
   "metadata": {},
   "outputs": [
    {
     "data": {
      "text/plain": [
       "0      7.000000\n",
       "1      1.981818\n",
       "2      1.780488\n",
       "3      2.500000\n",
       "4      1.950000\n",
       "         ...   \n",
       "578    5.000000\n",
       "579    6.000000\n",
       "580    4.000000\n",
       "581    2.600000\n",
       "582    3.333333\n",
       "Name: TB/DB Ratio, Length: 583, dtype: float64"
      ]
     },
     "execution_count": 12,
     "metadata": {},
     "output_type": "execute_result"
    }
   ],
   "source": [
    "#Feature Engineering\n",
    "df['TB/DB Ratio'] = df['TB'] / df['DB']\n",
    "df['TB/DB Ratio']"
   ]
  },
  {
   "cell_type": "code",
   "execution_count": 13,
   "id": "d31f4a29",
   "metadata": {},
   "outputs": [],
   "source": [
    "# Define features and target variable\n",
    "features = df.drop(columns=['Target'])\n",
    "target = df['Target']\n",
    "\n",
    "# Split the data into train and test sets\n",
    "X_train, X_test, y_train, y_test = train_test_split(features, target, test_size=0.20, random_state=0)"
   ]
  },
  {
   "cell_type": "code",
   "execution_count": 14,
   "id": "68b3b31a",
   "metadata": {},
   "outputs": [],
   "source": [
    "# Model Training and Evaluation\n",
    "# Function to evaluate models\n",
    "def evaluate_model(model, X_test, y_test, y_pred):\n",
    "    accuracy = accuracy_score(y_test, y_pred)\n",
    "    precision = precision_score(y_test, y_pred)\n",
    "    recall = recall_score(y_test, y_pred)\n",
    "    report = classification_report(y_test, y_pred)\n",
    "    matrix = confusion_matrix(y_test, y_pred)\n",
    "    return accuracy, precision, recall, report, matrix"
   ]
  },
  {
   "cell_type": "code",
   "execution_count": 15,
   "id": "ab6e34fd",
   "metadata": {},
   "outputs": [],
   "source": [
    "# Logistic Regression\n",
    "lr = LogisticRegression(max_iter=1000)\n",
    "lr.fit(X_train, y_train)\n",
    "y_pred_lr = lr.predict(X_test)\n",
    "acc_lr, prec_lr, rec_lr, report_lr, matrix_lr = evaluate_model(lr, X_test, y_test, y_pred_lr)"
   ]
  },
  {
   "cell_type": "code",
   "execution_count": 16,
   "id": "b907af9f",
   "metadata": {},
   "outputs": [],
   "source": [
    "# Random Forest Classifier\n",
    "rf = RandomForestClassifier()\n",
    "rf.fit(X_train, y_train)\n",
    "y_pred_rf = rf.predict(X_test)\n",
    "acc_rf, prec_rf, rec_rf, report_rf, matrix_rf = evaluate_model(rf, X_test, y_test, y_pred_rf)"
   ]
  },
  {
   "cell_type": "code",
   "execution_count": 17,
   "id": "a42700c6",
   "metadata": {},
   "outputs": [],
   "source": [
    "# Decision Tree Classifier\n",
    "dt = DecisionTreeClassifier()\n",
    "dt.fit(X_train, y_train)\n",
    "y_pred_dt = dt.predict(X_test)\n",
    "acc_dt, prec_dt, rec_dt, report_dt, matrix_dt = evaluate_model(dt, X_test, y_test, y_pred_dt)"
   ]
  },
  {
   "cell_type": "code",
   "execution_count": 18,
   "id": "3fb8866e",
   "metadata": {},
   "outputs": [],
   "source": [
    "# K-Nearest Neighbors Classifier\n",
    "knn = KNeighborsClassifier(n_neighbors=3)\n",
    "knn.fit(X_train, y_train)\n",
    "y_pred_knn = knn.predict(X_test)\n",
    "acc_knn, prec_knn, rec_knn, report_knn, matrix_knn = evaluate_model(knn, X_test, y_test, y_pred_knn)"
   ]
  },
  {
   "cell_type": "code",
   "execution_count": 19,
   "id": "bd82ddf2",
   "metadata": {},
   "outputs": [],
   "source": [
    "#Comparing Models\n",
    "models = ['Logistic Regression', 'Random Forest', 'Decision Tree', 'K-Nearest Neighbors']\n",
    "accuracies = [acc_lr, acc_rf, acc_dt, acc_knn]\n",
    "precisions = [prec_lr, prec_rf, prec_dt, prec_knn]\n",
    "recalls = [rec_lr, rec_rf, rec_dt, rec_knn]"
   ]
  },
  {
   "cell_type": "code",
   "execution_count": 20,
   "id": "c2ae9076",
   "metadata": {},
   "outputs": [
    {
     "name": "stdout",
     "output_type": "stream",
     "text": [
      "                 Model  Accuracy  Precision    Recall\n",
      "0  Logistic Regression  0.692308   0.701923  0.935897\n",
      "1        Random Forest  0.683761   0.715789  0.871795\n",
      "2        Decision Tree  0.658120   0.726190  0.782051\n",
      "3  K-Nearest Neighbors  0.675214   0.717391  0.846154\n"
     ]
    }
   ],
   "source": [
    "# Create a DataFrame to display the results\n",
    "results = pd.DataFrame({\n",
    "    'Model': models,\n",
    "    'Accuracy': accuracies,\n",
    "    'Precision': precisions,\n",
    "    'Recall': recalls\n",
    "})\n",
    "\n",
    "print(results)"
   ]
  },
  {
   "cell_type": "code",
   "execution_count": 21,
   "id": "0a448a01",
   "metadata": {},
   "outputs": [
    {
     "name": "stdout",
     "output_type": "stream",
     "text": [
      "Logistic Regression:\n",
      "               precision    recall  f1-score   support\n",
      "\n",
      "           0       0.62      0.21      0.31        39\n",
      "           1       0.70      0.94      0.80        78\n",
      "\n",
      "    accuracy                           0.69       117\n",
      "   macro avg       0.66      0.57      0.55       117\n",
      "weighted avg       0.67      0.69      0.64       117\n",
      "\n",
      "Random Forest:\n",
      "               precision    recall  f1-score   support\n",
      "\n",
      "           0       0.55      0.31      0.39        39\n",
      "           1       0.72      0.87      0.79        78\n",
      "\n",
      "    accuracy                           0.68       117\n",
      "   macro avg       0.63      0.59      0.59       117\n",
      "weighted avg       0.66      0.68      0.66       117\n",
      "\n",
      "Decision Tree:\n",
      "               precision    recall  f1-score   support\n",
      "\n",
      "           0       0.48      0.41      0.44        39\n",
      "           1       0.73      0.78      0.75        78\n",
      "\n",
      "    accuracy                           0.66       117\n",
      "   macro avg       0.61      0.60      0.60       117\n",
      "weighted avg       0.65      0.66      0.65       117\n",
      "\n",
      "K-Nearest Neighbors:\n",
      "               precision    recall  f1-score   support\n",
      "\n",
      "           0       0.52      0.33      0.41        39\n",
      "           1       0.72      0.85      0.78        78\n",
      "\n",
      "    accuracy                           0.68       117\n",
      "   macro avg       0.62      0.59      0.59       117\n",
      "weighted avg       0.65      0.68      0.65       117\n",
      "\n"
     ]
    }
   ],
   "source": [
    "# Display classification reports\n",
    "print(\"Logistic Regression:\\n\", report_lr)\n",
    "print(\"Random Forest:\\n\", report_rf)\n",
    "print(\"Decision Tree:\\n\", report_dt)\n",
    "print(\"K-Nearest Neighbors:\\n\", report_knn)"
   ]
  },
  {
   "cell_type": "code",
   "execution_count": 22,
   "id": "000f7cbf",
   "metadata": {},
   "outputs": [
    {
     "data": {
      "image/png": "[encoded data removed]",
      "text/plain": [
       "<Figure size 1200x1000 with 8 Axes>"
      ]
     },
     "metadata": {},
     "output_type": "display_data"
    }
   ],
   "source": [
    "# Display confusion matrices\n",
    "fig, axes = plt.subplots(2, 2, figsize=(12, 10))\n",
    "sns.heatmap(matrix_lr, annot=True, fmt='d', ax=axes[0,0])\n",
    "axes[0,0].set_title('Logistic Regression')\n",
    "sns.heatmap(matrix_rf, annot=True, fmt='d', ax=axes[0,1])\n",
    "axes[0,1].set_title('Random Forest')\n",
    "sns.heatmap(matrix_dt, annot=True, fmt='d', ax=axes[1,0])\n",
    "axes[1,0].set_title('Decision Tree')\n",
    "sns.heatmap(matrix_knn, annot=True, fmt='d', ax=axes[1,1])\n",
    "axes[1,1].set_title('K-Nearest Neighbors')\n",
    "\n",
    "plt.tight_layout()\n",
    "plt.show()"
   ]
  },
  {
   "cell_type": "code",
   "execution_count": null,
   "id": "e71ec678",
   "metadata": {},
   "outputs": [],
   "source": []
  }
 ],
 "metadata": {
  "colab": {
   "provenance": []
  },
  "kernelspec": {
   "display_name": "Python 3 (ipykernel)",
   "language": "python",
   "name": "python3"
  },
  "language_info": {
   "codemirror_mode": {
    "name": "ipython",
    "version": 3
   },
   "file_extension": ".py",
   "mimetype": "text/x-python",
   "name": "python",
   "nbconvert_exporter": "python",
   "pygments_lexer": "ipython3",
   "version": "3.11.7"
  }
 },
 "nbformat": 4,
 "nbformat_minor": 5
}
